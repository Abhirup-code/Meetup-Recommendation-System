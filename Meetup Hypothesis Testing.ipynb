{
 "cells": [
  {
   "cell_type": "code",
   "execution_count": 42,
   "metadata": {
    "collapsed": true
   },
   "outputs": [],
   "source": [
    "import pandas as pd\n",
    "import numpy as np\n",
    "import seaborn as sns\n",
    "import matplotlib.pyplot as plt\n",
    "import scipy.stats as st\n",
    "from tqdm import tqdm\n",
    "\n",
    "%matplotlib inline"
   ]
  },
  {
   "cell_type": "code",
   "execution_count": 5,
   "metadata": {
    "collapsed": true
   },
   "outputs": [],
   "source": [
    "df_members = pd.read_csv('members.csv', encoding = 'latin-1')\n",
    "df_groups = pd.read_csv('groups.csv')"
   ]
  },
  {
   "cell_type": "code",
   "execution_count": 7,
   "metadata": {},
   "outputs": [
    {
     "data": {
      "text/html": [
       "<div>\n",
       "<style>\n",
       "    .dataframe thead tr:only-child th {\n",
       "        text-align: right;\n",
       "    }\n",
       "\n",
       "    .dataframe thead th {\n",
       "        text-align: left;\n",
       "    }\n",
       "\n",
       "    .dataframe tbody tr th {\n",
       "        vertical-align: top;\n",
       "    }\n",
       "</style>\n",
       "<table border=\"1\" class=\"dataframe\">\n",
       "  <thead>\n",
       "    <tr style=\"text-align: right;\">\n",
       "      <th></th>\n",
       "      <th>member_id</th>\n",
       "      <th>bio</th>\n",
       "      <th>city</th>\n",
       "      <th>country</th>\n",
       "      <th>hometown</th>\n",
       "      <th>joined</th>\n",
       "      <th>lat</th>\n",
       "      <th>link</th>\n",
       "      <th>lon</th>\n",
       "      <th>member_name</th>\n",
       "      <th>state</th>\n",
       "      <th>member_status</th>\n",
       "      <th>visited</th>\n",
       "      <th>group_id</th>\n",
       "    </tr>\n",
       "  </thead>\n",
       "  <tbody>\n",
       "    <tr>\n",
       "      <th>0</th>\n",
       "      <td>3</td>\n",
       "      <td>not_found</td>\n",
       "      <td>New York</td>\n",
       "      <td>us</td>\n",
       "      <td>New York, NY</td>\n",
       "      <td>2007-05-01 22:04:37</td>\n",
       "      <td>40.72</td>\n",
       "      <td>http://www.meetup.com/members/3</td>\n",
       "      <td>-74.0</td>\n",
       "      <td>Matt Meeker</td>\n",
       "      <td>NY</td>\n",
       "      <td>active</td>\n",
       "      <td>2009-09-18 18:32:23</td>\n",
       "      <td>490552</td>\n",
       "    </tr>\n",
       "    <tr>\n",
       "      <th>1</th>\n",
       "      <td>3</td>\n",
       "      <td>not_found</td>\n",
       "      <td>New York</td>\n",
       "      <td>us</td>\n",
       "      <td>New York, NY</td>\n",
       "      <td>2011-01-23 14:13:17</td>\n",
       "      <td>40.72</td>\n",
       "      <td>http://www.meetup.com/members/3</td>\n",
       "      <td>-74.0</td>\n",
       "      <td>Matt Meeker</td>\n",
       "      <td>NY</td>\n",
       "      <td>active</td>\n",
       "      <td>2011-03-20 01:02:11</td>\n",
       "      <td>1474611</td>\n",
       "    </tr>\n",
       "    <tr>\n",
       "      <th>2</th>\n",
       "      <td>3</td>\n",
       "      <td>Hi, I'm Matt. I'm an entrepreneur who has star...</td>\n",
       "      <td>New York</td>\n",
       "      <td>us</td>\n",
       "      <td>New York, NY</td>\n",
       "      <td>2010-12-30 18:47:34</td>\n",
       "      <td>40.72</td>\n",
       "      <td>http://www.meetup.com/members/3</td>\n",
       "      <td>-74.0</td>\n",
       "      <td>Matt Meeker</td>\n",
       "      <td>NY</td>\n",
       "      <td>active</td>\n",
       "      <td>2011-01-18 20:37:23</td>\n",
       "      <td>1490492</td>\n",
       "    </tr>\n",
       "    <tr>\n",
       "      <th>3</th>\n",
       "      <td>3</td>\n",
       "      <td>Hi, I'm Matt. I'm an entrepreneur who has star...</td>\n",
       "      <td>New York</td>\n",
       "      <td>us</td>\n",
       "      <td>New York, NY</td>\n",
       "      <td>2011-01-03 14:45:21</td>\n",
       "      <td>40.72</td>\n",
       "      <td>http://www.meetup.com/members/3</td>\n",
       "      <td>-74.0</td>\n",
       "      <td>Matt Meeker</td>\n",
       "      <td>NY</td>\n",
       "      <td>active</td>\n",
       "      <td>2011-07-23 03:42:28</td>\n",
       "      <td>1515830</td>\n",
       "    </tr>\n",
       "    <tr>\n",
       "      <th>4</th>\n",
       "      <td>3</td>\n",
       "      <td>Hi, I'm Matt. I'm an entrepreneur who has star...</td>\n",
       "      <td>New York</td>\n",
       "      <td>us</td>\n",
       "      <td>New York, NY</td>\n",
       "      <td>2010-12-30 18:34:50</td>\n",
       "      <td>40.72</td>\n",
       "      <td>http://www.meetup.com/members/3</td>\n",
       "      <td>-74.0</td>\n",
       "      <td>Matt Meeker</td>\n",
       "      <td>NY</td>\n",
       "      <td>active</td>\n",
       "      <td>2011-06-13 18:33:23</td>\n",
       "      <td>1574965</td>\n",
       "    </tr>\n",
       "  </tbody>\n",
       "</table>\n",
       "</div>"
      ],
      "text/plain": [
       "   member_id                                                bio      city  \\\n",
       "0          3                                          not_found  New York   \n",
       "1          3                                          not_found  New York   \n",
       "2          3  Hi, I'm Matt. I'm an entrepreneur who has star...  New York   \n",
       "3          3  Hi, I'm Matt. I'm an entrepreneur who has star...  New York   \n",
       "4          3  Hi, I'm Matt. I'm an entrepreneur who has star...  New York   \n",
       "\n",
       "  country      hometown               joined    lat  \\\n",
       "0      us  New York, NY  2007-05-01 22:04:37  40.72   \n",
       "1      us  New York, NY  2011-01-23 14:13:17  40.72   \n",
       "2      us  New York, NY  2010-12-30 18:47:34  40.72   \n",
       "3      us  New York, NY  2011-01-03 14:45:21  40.72   \n",
       "4      us  New York, NY  2010-12-30 18:34:50  40.72   \n",
       "\n",
       "                              link   lon  member_name state member_status  \\\n",
       "0  http://www.meetup.com/members/3 -74.0  Matt Meeker    NY        active   \n",
       "1  http://www.meetup.com/members/3 -74.0  Matt Meeker    NY        active   \n",
       "2  http://www.meetup.com/members/3 -74.0  Matt Meeker    NY        active   \n",
       "3  http://www.meetup.com/members/3 -74.0  Matt Meeker    NY        active   \n",
       "4  http://www.meetup.com/members/3 -74.0  Matt Meeker    NY        active   \n",
       "\n",
       "               visited  group_id  \n",
       "0  2009-09-18 18:32:23    490552  \n",
       "1  2011-03-20 01:02:11   1474611  \n",
       "2  2011-01-18 20:37:23   1490492  \n",
       "3  2011-07-23 03:42:28   1515830  \n",
       "4  2011-06-13 18:33:23   1574965  "
      ]
     },
     "execution_count": 7,
     "metadata": {},
     "output_type": "execute_result"
    }
   ],
   "source": [
    "df_members.head()"
   ]
  },
  {
   "cell_type": "code",
   "execution_count": 64,
   "metadata": {},
   "outputs": [
    {
     "data": {
      "text/plain": [
       "0     3\n",
       "1     6\n",
       "2    36\n",
       "3    65\n",
       "4    82\n",
       "dtype: int64"
      ]
     },
     "execution_count": 64,
     "metadata": {},
     "output_type": "execute_result"
    }
   ],
   "source": [
    "#create a series that contains only unique member_id\n",
    "sr = pd.Series(df_members['member_id'].unique())\n",
    "sr.head()"
   ]
  },
  {
   "cell_type": "code",
   "execution_count": 40,
   "metadata": {
    "collapsed": true
   },
   "outputs": [],
   "source": [
    "def sample_mean(n):\n",
    "    \"\"\"Takes in the number to sample and return a sample mean.\"\"\"\n",
    "    \n",
    "    x = np.random.choice(len(sr), n, replace = False)\n",
    "    return df_members[df_members['member_id'].isin(sr.loc[x])].groupby('member_id').count()['group_id'].mean()"
   ]
  },
  {
   "cell_type": "code",
   "execution_count": 54,
   "metadata": {},
   "outputs": [
    {
     "name": "stderr",
     "output_type": "stream",
     "text": [
      "100%|██████████| 1000/1000 [4:02:03<00:00, 14.52s/it]\n"
     ]
    },
    {
     "data": {
      "text/plain": [
       "5.4023799999999991"
      ]
     },
     "execution_count": 54,
     "metadata": {},
     "output_type": "execute_result"
    }
   ],
   "source": [
    "#create 10000 sample mean replicates to create a sampling distribution to estimate the population mean of groups \n",
    "#a user joins\n",
    "\n",
    "sampling_dis = []\n",
    "\n",
    "for i in tqdm(range(1000)):\n",
    "    sampling_dis.append(sample_mean(100))\n",
    "\n",
    "true_mean = np.mean(sampling_dis)\n",
    "true_mean"
   ]
  },
  {
   "cell_type": "markdown",
   "metadata": {},
   "source": []
  },
  {
   "cell_type": "markdown",
   "metadata": {},
   "source": [
    "### Hypothesis Testing on the true mean of groups a user joins\n",
    "\n",
    "The point of this hypothesis testing is to determine whether the estimated average group a user participates in is 5. This estimate was determine by generating a sampling distribution of the sample mean and taking the mean of the sampling distribution as the true mean. This value will give a benchmark on how active these users are. Hopefully, by figuring out the benchmark, it can be use to determine whether the recommendation system is helping in getting more users to join more groups, thus participating in more events if desired.\n",
    "\n",
    "To begin the hypothesis testing, the null and alternative hypothesis are stated as follows:\n",
    "\n",
    "$H_{o}: \\mu = 5$\n",
    "\n",
    "$H_{a}: \\mu \\neq 5$\n",
    "\n",
    "A one sample t test will be used to determine if the p value is less than the significance level. If so, then the null hypothesis will be rejected and the alternative hypothesis will be accepted. The significance level will be preset to $\\alpha = .05$.\n",
    "\n",
    "t = $\\frac{\\bar{x} - \\mu_{o}}{\\delta /\\sqrt{n} }$\n",
    "\n",
    "This one sample t test was done twice, one by sampling 30 users for the sample mean 10000 times and the other by sampling 100 users for the sample mean 1000 time. As seen below,\n",
    "\n",
    "$N = 30$\n",
    "\n",
    "$t = 0.057876464979089021$\n",
    "\n",
    "$p value = 0.95424399179146757$\n",
    "\n",
    "Since the p value is greater than the significance level, there isnt strong enough evidence to reject the null hypothesis. The 95% confidence interval is computed to be $[2.7892711576093157, 8.1440621757240184]$ for this random sample with some positive skew.\n",
    "\n",
    "\n",
    "$N = 100$\n",
    "\n",
    "$t = -1.7170845940749131$\n",
    "\n",
    "$p value = 0.089090650907894198$\n",
    "\n",
    "\n",
    "Since the p value is greater than the significance level, there isnt strong enough evidence to reject the null hypothesis. The 95% confidence interval is computed to be $[3.1547834928576211, 5.5452165071423778]$ for this random sample. Compare to the positive skew with N = 30, it can be seen that the positive skew decreases as N increases."
   ]
  },
  {
   "cell_type": "code",
   "execution_count": 47,
   "metadata": {},
   "outputs": [
    {
     "data": {
      "text/plain": [
       "Ttest_1sampResult(statistic=0.057876464979089021, pvalue=0.95424399179146757)"
      ]
     },
     "execution_count": 47,
     "metadata": {},
     "output_type": "execute_result"
    }
   ],
   "source": [
    "#generate a sample mean and perform a one sample t test against the true mean\n",
    "#sample = sample_mean(30)\n",
    "random = np.random.choice(len(sr), 30, replace = False)\n",
    "samples = df_members[df_members['member_id'].isin(sr.loc[random])].groupby('member_id').count()['group_id']\n",
    "st.ttest_1samp(samples, true_mean)"
   ]
  },
  {
   "cell_type": "code",
   "execution_count": 45,
   "metadata": {},
   "outputs": [
    {
     "data": {
      "text/plain": [
       "3.433333333333333"
      ]
     },
     "execution_count": 45,
     "metadata": {},
     "output_type": "execute_result"
    }
   ],
   "source": [
    "sample"
   ]
  },
  {
   "cell_type": "code",
   "execution_count": 48,
   "metadata": {},
   "outputs": [
    {
     "data": {
      "text/plain": [
       "(2.7892711576093157, 8.1440621757240184)"
      ]
     },
     "execution_count": 48,
     "metadata": {},
     "output_type": "execute_result"
    }
   ],
   "source": [
    "#95% CI from the random sample with N = 30\n",
    "\n",
    "mean = np.mean(samples)\n",
    "std = np.std(samples)\n",
    "st.norm.interval(0.95, loc=mean, scale=std/np.sqrt(30))"
   ]
  },
  {
   "cell_type": "code",
   "execution_count": 52,
   "metadata": {},
   "outputs": [
    {
     "data": {
      "image/png": "[encoded data removed]",
      "text/plain": [
       "<matplotlib.figure.Figure at 0x111a2a940>"
      ]
     },
     "metadata": {},
     "output_type": "display_data"
    }
   ],
   "source": [
    "#plot sampling distribution of the sample mean for N = 30\n",
    "\n",
    "_ = plt.hist(sampling_dis, bins = 40, normed = True)\n",
    "_ = plt.xlabel('Average Group per User')\n",
    "_ = plt.ylabel('PDF')\n",
    "_ = plt.title('User Group Participation')\n",
    "sns.set()\n",
    "plt.show()"
   ]
  },
  {
   "cell_type": "code",
   "execution_count": 55,
   "metadata": {},
   "outputs": [
    {
     "data": {
      "text/plain": [
       "Ttest_1sampResult(statistic=-1.7170845940749131, pvalue=0.089090650907894198)"
      ]
     },
     "execution_count": 55,
     "metadata": {},
     "output_type": "execute_result"
    }
   ],
   "source": [
    "#this attempt is with sampling 100 for 1000 times\n",
    "\n",
    "random = np.random.choice(len(sr), 100, replace = False)\n",
    "samples = df_members[df_members['member_id'].isin(sr.loc[random])].groupby('member_id').count()['group_id']\n",
    "st.ttest_1samp(samples, true_mean)"
   ]
  },
  {
   "cell_type": "code",
   "execution_count": 61,
   "metadata": {},
   "outputs": [
    {
     "data": {
      "text/plain": [
       "(3.1547834928576211, 5.5452165071423778)"
      ]
     },
     "execution_count": 61,
     "metadata": {},
     "output_type": "execute_result"
    }
   ],
   "source": [
    "#95% CI from the random sample with N = 100\n",
    "\n",
    "mean = np.mean(samples)\n",
    "std = np.std(samples)\n",
    "st.norm.interval(0.95, loc=mean, scale=std/np.sqrt(100))"
   ]
  },
  {
   "cell_type": "code",
   "execution_count": 57,
   "metadata": {},
   "outputs": [
    {
     "data": {
      "image/png": "[encoded data removed]",
      "text/plain": [
       "<matplotlib.figure.Figure at 0x11237b2b0>"
      ]
     },
     "metadata": {},
     "output_type": "display_data"
    }
   ],
   "source": [
    "# Plot of the sampling distribution of the sample mean with N = 100\n",
    "_ = plt.hist(sampling_dis, bins = 40, normed = True)\n",
    "_ = plt.xlabel('Average Group per User')\n",
    "_ = plt.ylabel('PDF')\n",
    "_ = plt.title('User Group Participation')\n",
    "sns.set()\n",
    "plt.show()"
   ]
  },
  {
   "cell_type": "code",
   "execution_count": null,
   "metadata": {
    "collapsed": true
   },
   "outputs": [],
   "source": []
  }
 ],
 "metadata": {
  "kernelspec": {
   "display_name": "Python 3",
   "language": "python",
   "name": "python3"
  },
  "language_info": {
   "codemirror_mode": {
    "name": "ipython",
    "version": 3
   },
   "file_extension": ".py",
   "mimetype": "text/x-python",
   "name": "python",
   "nbconvert_exporter": "python",
   "pygments_lexer": "ipython3",
   "version": "3.6.1"
  }
 },
 "nbformat": 4,
 "nbformat_minor": 2
}
