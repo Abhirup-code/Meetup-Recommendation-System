{
 "cells": [
  {
   "cell_type": "code",
   "execution_count": 144,
   "metadata": {
    "collapsed": true
   },
   "outputs": [],
   "source": [
    "import implicit\n",
    "from scipy.sparse import coo_matrix\n",
    "from scipy.sparse import csr_matrix\n",
    "import numpy as np\n",
    "import pandas as pd"
   ]
  },
  {
   "cell_type": "code",
   "execution_count": 145,
   "metadata": {},
   "outputs": [
    {
     "data": {
      "text/plain": [
       "'/Users/dillonquan/Desktop/Capstone Project 2'"
      ]
     },
     "execution_count": 145,
     "metadata": {},
     "output_type": "execute_result"
    }
   ],
   "source": [
    "pwd"
   ]
  },
  {
   "cell_type": "code",
   "execution_count": 47,
   "metadata": {
    "collapsed": true
   },
   "outputs": [],
   "source": [
    "df_groups = pd.read_csv('groups.csv')\n",
    "df_members = pd.read_csv('members.csv', encoding = 'latin-1')"
   ]
  },
  {
   "cell_type": "code",
   "execution_count": 48,
   "metadata": {
    "collapsed": true
   },
   "outputs": [],
   "source": [
    "#dropping unecessary groups from members dataframe\n",
    "df_members = df_members.drop(['bio','country','hometown','joined','lat','link','lon','member_name','state','member_status','visited'], axis = 1)"
   ]
  },
  {
   "cell_type": "code",
   "execution_count": 49,
   "metadata": {
    "collapsed": true
   },
   "outputs": [],
   "source": [
    "#dropping unecessary columns from groups\n",
    "df_groups = df_groups.drop(['category_id','category.name','category.shortname','city_id',\n",
    " 'country','created','description','group_photo.base_url','group_photo.highres_link',\n",
    " 'group_photo.photo_id','group_photo.photo_link','group_photo.thumb_link','group_photo.type','join_mode','lat','link',\n",
    " 'lon','members','organizer.member_id','organizer.name','organizer.photo.base_url','organizer.photo.highres_link',\n",
    " 'organizer.photo.photo_id','organizer.photo.photo_link','organizer.photo.thumb_link','organizer.photo.type','rating','state','timezone','urlname','utc_offset','visibility','who'], axis = 1)"
   ]
  },
  {
   "cell_type": "code",
   "execution_count": 51,
   "metadata": {
    "collapsed": true
   },
   "outputs": [],
   "source": [
    "def get_city(city):\n",
    "    \"\"\"Take in the acronym of the city and return a dataframe containing only members and groups from that city.\"\"\"\n",
    "    \n",
    "    #defense coding\n",
    "    if city not in ['SF', 'NYC', 'CHI']:\n",
    "        raise ValueError('Invalid City')\n",
    "        \n",
    "    #separating the members and groups by their corresponding city\n",
    "    \n",
    "    #SF\n",
    "    sf = ['San Francisco', 'san francisco', 'South San Francisco']\n",
    "    df_sf = df_members[df_members.city.isin(sf)]\n",
    "    df_sfg = df_groups[df_groups.city.isin(sf)]\n",
    "    \n",
    "    #NY\n",
    "    ny = ['New York', 'West New York', 'New York Mills']\n",
    "    df_ny = df_members[df_members.city.isin(ny)]\n",
    "    df_nyg = df_groups[df_groups.city.isin(ny)]\n",
    "    \n",
    "    #CHI\n",
    "    chi = ['Chicago','Chicago Heights','West Chicago','Chicago Ridge','East Chicago','North Chicago','Chicago Park']\n",
    "    df_chi = df_members[df_members.city.isin(chi)]\n",
    "    df_chig = df_groups[df_groups.city.isin(chi)]\n",
    "    \n",
    "    if city == 'SF':\n",
    "        return df_sf.merge(df_sfg, on = 'group_id')\n",
    "    elif city == 'NYC':\n",
    "        return df_ny.merge(df_nyg, on = 'group_id')\n",
    "    elif city == 'CHI':\n",
    "        return df_chi.merge(df_chig, on = 'group_id')"
   ]
  },
  {
   "cell_type": "code",
   "execution_count": 52,
   "metadata": {
    "collapsed": true
   },
   "outputs": [],
   "source": [
    "#getting data from a specific city\n",
    "df = get_city('SF')"
   ]
  },
  {
   "cell_type": "code",
   "execution_count": 64,
   "metadata": {},
   "outputs": [
    {
     "data": {
      "text/plain": [
       "(1472925, 5)"
      ]
     },
     "execution_count": 64,
     "metadata": {},
     "output_type": "execute_result"
    }
   ],
   "source": [
    "df.shape"
   ]
  },
  {
   "cell_type": "code",
   "execution_count": 65,
   "metadata": {
    "scrolled": true
   },
   "outputs": [
    {
     "data": {
      "text/plain": [
       "(1472925,)"
      ]
     },
     "execution_count": 65,
     "metadata": {},
     "output_type": "execute_result"
    }
   ],
   "source": [
    "#this confirms that there isnt any members in sf that isnt in a group\n",
    "df['group_id'].dropna().shape"
   ]
  },
  {
   "cell_type": "code",
   "execution_count": 117,
   "metadata": {},
   "outputs": [],
   "source": [
    "#made the group/member id of category type to give each unique id(both) an index that allows for mapping back to user\n",
    "#and group name\n",
    "df['m_code'] = df['member_id'].astype('category').cat.codes\n",
    "df['g_code'] = df['group_id'].astype('category').cat.codes"
   ]
  },
  {
   "cell_type": "code",
   "execution_count": 146,
   "metadata": {},
   "outputs": [
    {
     "data": {
      "text/html": [
       "<div>\n",
       "<style>\n",
       "    .dataframe thead tr:only-child th {\n",
       "        text-align: right;\n",
       "    }\n",
       "\n",
       "    .dataframe thead th {\n",
       "        text-align: left;\n",
       "    }\n",
       "\n",
       "    .dataframe tbody tr th {\n",
       "        vertical-align: top;\n",
       "    }\n",
       "</style>\n",
       "<table border=\"1\" class=\"dataframe\">\n",
       "  <thead>\n",
       "    <tr style=\"text-align: right;\">\n",
       "      <th></th>\n",
       "      <th>member_id</th>\n",
       "      <th>city_x</th>\n",
       "      <th>group_id</th>\n",
       "      <th>city_y</th>\n",
       "      <th>group_name</th>\n",
       "      <th>dummy</th>\n",
       "      <th>m_code</th>\n",
       "      <th>g_code</th>\n",
       "    </tr>\n",
       "  </thead>\n",
       "  <tbody>\n",
       "    <tr>\n",
       "      <th>0</th>\n",
       "      <td>65</td>\n",
       "      <td>San Francisco</td>\n",
       "      <td>2701562</td>\n",
       "      <td>San Francisco</td>\n",
       "      <td>GoSF</td>\n",
       "      <td>1</td>\n",
       "      <td>0</td>\n",
       "      <td>583</td>\n",
       "    </tr>\n",
       "    <tr>\n",
       "      <th>1</th>\n",
       "      <td>29009</td>\n",
       "      <td>San Francisco</td>\n",
       "      <td>2701562</td>\n",
       "      <td>San Francisco</td>\n",
       "      <td>GoSF</td>\n",
       "      <td>1</td>\n",
       "      <td>38</td>\n",
       "      <td>583</td>\n",
       "    </tr>\n",
       "    <tr>\n",
       "      <th>2</th>\n",
       "      <td>67424</td>\n",
       "      <td>San Francisco</td>\n",
       "      <td>2701562</td>\n",
       "      <td>San Francisco</td>\n",
       "      <td>GoSF</td>\n",
       "      <td>1</td>\n",
       "      <td>58</td>\n",
       "      <td>583</td>\n",
       "    </tr>\n",
       "    <tr>\n",
       "      <th>3</th>\n",
       "      <td>94707</td>\n",
       "      <td>San Francisco</td>\n",
       "      <td>2701562</td>\n",
       "      <td>San Francisco</td>\n",
       "      <td>GoSF</td>\n",
       "      <td>1</td>\n",
       "      <td>83</td>\n",
       "      <td>583</td>\n",
       "    </tr>\n",
       "    <tr>\n",
       "      <th>4</th>\n",
       "      <td>95826</td>\n",
       "      <td>San Francisco</td>\n",
       "      <td>2701562</td>\n",
       "      <td>San Francisco</td>\n",
       "      <td>GoSF</td>\n",
       "      <td>1</td>\n",
       "      <td>84</td>\n",
       "      <td>583</td>\n",
       "    </tr>\n",
       "  </tbody>\n",
       "</table>\n",
       "</div>"
      ],
      "text/plain": [
       "   member_id         city_x  group_id         city_y group_name  dummy  \\\n",
       "0         65  San Francisco   2701562  San Francisco       GoSF      1   \n",
       "1      29009  San Francisco   2701562  San Francisco       GoSF      1   \n",
       "2      67424  San Francisco   2701562  San Francisco       GoSF      1   \n",
       "3      94707  San Francisco   2701562  San Francisco       GoSF      1   \n",
       "4      95826  San Francisco   2701562  San Francisco       GoSF      1   \n",
       "\n",
       "   m_code  g_code  \n",
       "0       0     583  \n",
       "1      38     583  \n",
       "2      58     583  \n",
       "3      83     583  \n",
       "4      84     583  "
      ]
     },
     "execution_count": 146,
     "metadata": {},
     "output_type": "execute_result"
    }
   ],
   "source": [
    "df.head()"
   ]
  },
  {
   "cell_type": "code",
   "execution_count": 149,
   "metadata": {
    "scrolled": true
   },
   "outputs": [],
   "source": [
    "#create the 2 separate sparse matrix where 1 is item x user and the other user x item\n",
    "item_user = csr_matrix((df['dummy'], (df['g_code'],df['m_code']))) #required to fit the model\n",
    "user_item = csr_matrix((df['dummy'], (df['m_code'], df['g_code']))) #used as an input for recommend method"
   ]
  },
  {
   "cell_type": "markdown",
   "metadata": {},
   "source": []
  },
  {
   "cell_type": "markdown",
   "metadata": {},
   "source": [
    "### Implicit Library First Trial"
   ]
  },
  {
   "cell_type": "code",
   "execution_count": 147,
   "metadata": {},
   "outputs": [
    {
     "name": "stderr",
     "output_type": "stream",
     "text": [
      "WARNING:root:Intel MKL BLAS detected. Its highly recommend to set the environment variable 'export MKL_NUM_THREADS=1' to disable its internal multithreading\n"
     ]
    }
   ],
   "source": [
    "#initializing the ALS model\n",
    "model = implicit.als.AlternatingLeastSquares(factors = 20, regularization = .01, iterations = 20)\n",
    "\n",
    "#preset alpha for the confidence learning rate\n",
    "alpha = 15\n",
    "\n",
    "#confidence c is defined by 1 + alpha*item_user where item_user is the interaction between an item and user\n",
    "#Note: the model takes care of the 1 so any negative preference will be set to a confidence of 1 when fitting\n",
    "c_item_user = item_user * alpha\n",
    "\n",
    "#fitting the model using the item_user matrix after it has been multiplied by alpha\n",
    "model.fit(c_item_user)"
   ]
  },
  {
   "cell_type": "code",
   "execution_count": 176,
   "metadata": {},
   "outputs": [],
   "source": [
    "#retrieving recommended groups for user 84. (This 84 corresponds to m_code not member_id)\n",
    "recommend = model.recommend(84, user_item, N = 20)"
   ]
  },
  {
   "cell_type": "code",
   "execution_count": 177,
   "metadata": {
    "collapsed": true
   },
   "outputs": [],
   "source": [
    "#unpacking recommend (list of tuples) into their own list\n",
    "idx = []\n",
    "scores = []\n",
    "for item in recommend:\n",
    "    item_id, score = item\n",
    "    idx.append(item_id)\n",
    "    scores.append(score)"
   ]
  },
  {
   "cell_type": "code",
   "execution_count": 178,
   "metadata": {},
   "outputs": [
    {
     "data": {
      "text/plain": [
       "[475,\n",
       " 293,\n",
       " 119,\n",
       " 574,\n",
       " 339,\n",
       " 107,\n",
       " 241,\n",
       " 145,\n",
       " 539,\n",
       " 187,\n",
       " 1311,\n",
       " 1003,\n",
       " 10,\n",
       " 448,\n",
       " 954,\n",
       " 21,\n",
       " 937,\n",
       " 1193,\n",
       " 927,\n",
       " 1338]"
      ]
     },
     "execution_count": 178,
     "metadata": {},
     "output_type": "execute_result"
    }
   ],
   "source": [
    "idx"
   ]
  },
  {
   "cell_type": "code",
   "execution_count": 179,
   "metadata": {},
   "outputs": [
    {
     "data": {
      "text/plain": [
       "['The SF JavaScript Meetup',\n",
       " 'San Francisco Python Meetup Group',\n",
       " 'Docker San Francisco',\n",
       " 'The San Francisco Ruby Meetup Group',\n",
       " 'SF New Tech',\n",
       " 'The San Francisco Android GDG',\n",
       " 'SFHTML5',\n",
       " 'Google Developer Group San Francisco @sf_gdg',\n",
       " 'Swift Language User Group (San Francisco)',\n",
       " 'SF Virtual Reality',\n",
       " 'Upload SF - VR & AR Meetup Group',\n",
       " 'The San Francisco Java User Group',\n",
       " 'iOS Developers (SF / SV)',\n",
       " 'Bay Area Software Engineers (BASE)',\n",
       " 'San Francisco Ruby on Rails Group',\n",
       " 'Unity (official) - San Francisco',\n",
       " '20 and 30 somethings in San Francisco - AWESOME Stuff',\n",
       " 'OpenLate - SF Tech Talks and Hack Nights',\n",
       " 'Bay Area Hackathons',\n",
       " '20-somethings friends & fun in SF']"
      ]
     },
     "execution_count": 179,
     "metadata": {},
     "output_type": "execute_result"
    }
   ],
   "source": [
    "#Showing the recommended group names\n",
    "rec = list(df[df['g_code'].isin(idx)].loc[:,'group_name'].unique())\n",
    "rec"
   ]
  },
  {
   "cell_type": "code",
   "execution_count": 180,
   "metadata": {},
   "outputs": [],
   "source": [
    "#this confirms the recommended groups are not groups that a user is already participating in\n",
    "for i in rec:\n",
    "    if i in df[df['member_id'] == 95826]['group_name']:\n",
    "        print(i)"
   ]
  },
  {
   "cell_type": "code",
   "execution_count": 181,
   "metadata": {
    "scrolled": true
   },
   "outputs": [
    {
     "data": {
      "text/plain": [
       "[1.0058045,\n",
       " 0.93341517,\n",
       " 0.85864979,\n",
       " 0.81541562,\n",
       " 0.81189871,\n",
       " 0.79300177,\n",
       " 0.77500331,\n",
       " 0.77035034,\n",
       " 0.76005113,\n",
       " 0.74547756,\n",
       " 0.7441256,\n",
       " 0.72162366,\n",
       " 0.71861124,\n",
       " 0.71826637,\n",
       " 0.71266431,\n",
       " 0.71151167,\n",
       " 0.68971443,\n",
       " 0.68463618,\n",
       " 0.68380594,\n",
       " 0.6748932]"
      ]
     },
     "execution_count": 181,
     "metadata": {},
     "output_type": "execute_result"
    }
   ],
   "source": [
    "scores"
   ]
  },
  {
   "cell_type": "code",
   "execution_count": 182,
   "metadata": {
    "scrolled": false
   },
   "outputs": [
    {
     "data": {
      "text/plain": [
       "4                                               GoSF\n",
       "67974                    Hack Reactor: Learn to Code\n",
       "99279                San Francisco TechCrunch Meetup\n",
       "162465          Tech in Motion Events: San Francisco\n",
       "210593       SF Mobile App Developers iPhone Android\n",
       "214051                             Game and App Devs\n",
       "277255               The Bay Area Clojure User Group\n",
       "282500          Hacks/Hackers San Francisco Bay Area\n",
       "349490    San Franciso Game Development Meetup Group\n",
       "385409                  T.O.J. - Tales Of JavaScript\n",
       "435054                         Doximity's Tech Night\n",
       "448462                                      SF Scala\n",
       "496965                      irish music trad session\n",
       "511389                                     Tinderbox\n",
       "597361    The Red Lantern: Bay Area Asian Cinephiles\n",
       "598043                   Startup Grind San Francisco\n",
       "600314                       SF Clojurescript Meetup\n",
       "600478        SF Bay Area Game Jamming & Game Design\n",
       "600916                          Game Dev Study Group\n",
       "601516         I wanted to do that...Just not alone!\n",
       "609926                             SF Couples Meetup\n",
       "610397                                      GoBridge\n",
       "610566                                     VR Arcade\n",
       "Name: group_name, dtype: object"
      ]
     },
     "execution_count": 182,
     "metadata": {},
     "output_type": "execute_result"
    }
   ],
   "source": [
    "#groups that this user is in\n",
    "df[df['member_id'] == 95826]['group_name']"
   ]
  },
  {
   "cell_type": "markdown",
   "metadata": {},
   "source": []
  }
 ],
 "metadata": {
  "kernelspec": {
   "display_name": "Python 3",
   "language": "python",
   "name": "python3"
  },
  "language_info": {
   "codemirror_mode": {
    "name": "ipython",
    "version": 3
   },
   "file_extension": ".py",
   "mimetype": "text/x-python",
   "name": "python",
   "nbconvert_exporter": "python",
   "pygments_lexer": "ipython3",
   "version": "3.6.1"
  }
 },
 "nbformat": 4,
 "nbformat_minor": 2
}
