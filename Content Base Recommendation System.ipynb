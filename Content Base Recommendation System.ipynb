{
 "cells": [
  {
   "cell_type": "code",
   "execution_count": 4,
   "metadata": {
    "collapsed": true
   },
   "outputs": [],
   "source": [
    "import pandas as pd\n",
    "import numpy as np\n",
    "pd.options.display.max_columns = 30"
   ]
  },
  {
   "cell_type": "markdown",
   "metadata": {},
   "source": []
  },
  {
   "cell_type": "markdown",
   "metadata": {},
   "source": [
    "### Content Based Rec Sys Consideration"
   ]
  },
  {
   "cell_type": "code",
   "execution_count": 5,
   "metadata": {
    "collapsed": true
   },
   "outputs": [],
   "source": [
    "#read in both group and group_topic table\n",
    "df_groups = pd.read_csv('groups.csv')\n",
    "df_groups_topics = pd.read_csv('groups_topics.csv', encoding = 'latin-1')"
   ]
  },
  {
   "cell_type": "code",
   "execution_count": 6,
   "metadata": {},
   "outputs": [
    {
     "data": {
      "text/plain": [
       "array(['NY', 'IL', 'CA', 'NJ'], dtype=object)"
      ]
     },
     "execution_count": 6,
     "metadata": {},
     "output_type": "execute_result"
    }
   ],
   "source": [
    "#all the states the groups are in from the dataset\n",
    "df_groups.state.unique()"
   ]
  },
  {
   "cell_type": "code",
   "execution_count": 8,
   "metadata": {
    "scrolled": true
   },
   "outputs": [
    {
     "data": {
      "text/plain": [
       "(11834, 16330)"
      ]
     },
     "execution_count": 8,
     "metadata": {},
     "output_type": "execute_result"
    }
   ],
   "source": [
    "#theres less organizer than groups, thus some user create multiple groups\n",
    "len(df_groups['organizer.member_id'].unique()), len(df_groups['group_id'].unique())"
   ]
  },
  {
   "cell_type": "code",
   "execution_count": 9,
   "metadata": {
    "scrolled": false
   },
   "outputs": [
    {
     "data": {
      "text/plain": [
       "((961,), (961,))"
      ]
     },
     "execution_count": 9,
     "metadata": {},
     "output_type": "execute_result"
    }
   ],
   "source": [
    "#There is a total of 961 unique topic tags for groups\n",
    "df_groups_topics['topic_key'].unique().shape, df_groups_topics['topic_name'].unique().shape"
   ]
  },
  {
   "cell_type": "code",
   "execution_count": 10,
   "metadata": {},
   "outputs": [
    {
     "data": {
      "text/html": [
       "<div>\n",
       "<style>\n",
       "    .dataframe thead tr:only-child th {\n",
       "        text-align: right;\n",
       "    }\n",
       "\n",
       "    .dataframe thead th {\n",
       "        text-align: left;\n",
       "    }\n",
       "\n",
       "    .dataframe tbody tr th {\n",
       "        vertical-align: top;\n",
       "    }\n",
       "</style>\n",
       "<table border=\"1\" class=\"dataframe\">\n",
       "  <thead>\n",
       "    <tr style=\"text-align: right;\">\n",
       "      <th></th>\n",
       "      <th>topic_id</th>\n",
       "      <th>topic_key</th>\n",
       "      <th>topic_name</th>\n",
       "      <th>group_id</th>\n",
       "    </tr>\n",
       "  </thead>\n",
       "  <tbody>\n",
       "    <tr>\n",
       "      <th>0</th>\n",
       "      <td>83</td>\n",
       "      <td>sportsfans</td>\n",
       "      <td>Sports Fan</td>\n",
       "      <td>241031</td>\n",
       "    </tr>\n",
       "    <tr>\n",
       "      <th>1</th>\n",
       "      <td>83</td>\n",
       "      <td>sportsfans</td>\n",
       "      <td>Sports Fan</td>\n",
       "      <td>289172</td>\n",
       "    </tr>\n",
       "    <tr>\n",
       "      <th>2</th>\n",
       "      <td>83</td>\n",
       "      <td>sportsfans</td>\n",
       "      <td>Sports Fan</td>\n",
       "      <td>295444</td>\n",
       "    </tr>\n",
       "    <tr>\n",
       "      <th>3</th>\n",
       "      <td>83</td>\n",
       "      <td>sportsfans</td>\n",
       "      <td>Sports Fan</td>\n",
       "      <td>1040320</td>\n",
       "    </tr>\n",
       "    <tr>\n",
       "      <th>4</th>\n",
       "      <td>83</td>\n",
       "      <td>sportsfans</td>\n",
       "      <td>Sports Fan</td>\n",
       "      <td>1403055</td>\n",
       "    </tr>\n",
       "  </tbody>\n",
       "</table>\n",
       "</div>"
      ],
      "text/plain": [
       "   topic_id   topic_key  topic_name  group_id\n",
       "0        83  sportsfans  Sports Fan    241031\n",
       "1        83  sportsfans  Sports Fan    289172\n",
       "2        83  sportsfans  Sports Fan    295444\n",
       "3        83  sportsfans  Sports Fan   1040320\n",
       "4        83  sportsfans  Sports Fan   1403055"
      ]
     },
     "execution_count": 10,
     "metadata": {},
     "output_type": "execute_result"
    }
   ],
   "source": [
    "df_groups_topics.head()"
   ]
  },
  {
   "cell_type": "code",
   "execution_count": 11,
   "metadata": {
    "collapsed": true
   },
   "outputs": [],
   "source": [
    "#dropping unecessary columns\n",
    "df_groups = df_groups.drop(['country','created', 'description', 'organizer.name', 'rating',\n",
    " 'group_photo.base_url', 'group_photo.highres_link', 'group_photo.photo_id','group_photo.photo_link','group_photo.thumb_link', 'group_photo.type','join_mode','lat','link',\n",
    " 'lon','members', 'organizer.photo.base_url','organizer.photo.highres_link', 'organizer.photo.photo_id','organizer.photo.photo_link',\n",
    " 'organizer.photo.thumb_link','organizer.photo.type','city', 'city_id', 'category_id','category.name', 'timezone','urlname','utc_offset','visibility','who'], axis = 1)"
   ]
  },
  {
   "cell_type": "code",
   "execution_count": 12,
   "metadata": {
    "collapsed": true,
    "scrolled": true
   },
   "outputs": [],
   "source": [
    "#left outer join with groups and their topics because some groups do not have any tags\n",
    "df_groups_topics = df_groups_topics.drop(['topic_name','topic_id'], axis = 1)\n",
    "df_groups = df_groups.merge(df_groups_topics, how = 'left', on = 'group_id')"
   ]
  },
  {
   "cell_type": "code",
   "execution_count": 13,
   "metadata": {},
   "outputs": [
    {
     "data": {
      "text/plain": [
       "(16330, 35666)"
      ]
     },
     "execution_count": 13,
     "metadata": {},
     "output_type": "execute_result"
    }
   ],
   "source": [
    "#number of unique groups, number of rows in dataframe\n",
    "len(df_groups['group_id'].unique()), len(df_groups)"
   ]
  },
  {
   "cell_type": "code",
   "execution_count": 14,
   "metadata": {},
   "outputs": [
    {
     "data": {
      "text/html": [
       "<div>\n",
       "<style>\n",
       "    .dataframe thead tr:only-child th {\n",
       "        text-align: right;\n",
       "    }\n",
       "\n",
       "    .dataframe thead th {\n",
       "        text-align: left;\n",
       "    }\n",
       "\n",
       "    .dataframe tbody tr th {\n",
       "        vertical-align: top;\n",
       "    }\n",
       "</style>\n",
       "<table border=\"1\" class=\"dataframe\">\n",
       "  <thead>\n",
       "    <tr style=\"text-align: right;\">\n",
       "      <th></th>\n",
       "      <th>group_id</th>\n",
       "      <th>category.shortname</th>\n",
       "      <th>group_name</th>\n",
       "      <th>organizer.member_id</th>\n",
       "      <th>state</th>\n",
       "      <th>topic_key</th>\n",
       "    </tr>\n",
       "  </thead>\n",
       "  <tbody>\n",
       "    <tr>\n",
       "      <th>0</th>\n",
       "      <td>6388</td>\n",
       "      <td>health-wellbeing</td>\n",
       "      <td>Alternative Health NYC</td>\n",
       "      <td>1513133</td>\n",
       "      <td>NY</td>\n",
       "      <td>wellness</td>\n",
       "    </tr>\n",
       "    <tr>\n",
       "      <th>1</th>\n",
       "      <td>6510</td>\n",
       "      <td>community-environment</td>\n",
       "      <td>Alternative Energy Meetup</td>\n",
       "      <td>3955940</td>\n",
       "      <td>NY</td>\n",
       "      <td>environmental-education</td>\n",
       "    </tr>\n",
       "    <tr>\n",
       "      <th>2</th>\n",
       "      <td>8458</td>\n",
       "      <td>pets-animals</td>\n",
       "      <td>NYC Animal Rights</td>\n",
       "      <td>1809940</td>\n",
       "      <td>NY</td>\n",
       "      <td>socialnetwork</td>\n",
       "    </tr>\n",
       "    <tr>\n",
       "      <th>3</th>\n",
       "      <td>8458</td>\n",
       "      <td>pets-animals</td>\n",
       "      <td>NYC Animal Rights</td>\n",
       "      <td>1809940</td>\n",
       "      <td>NY</td>\n",
       "      <td>social</td>\n",
       "    </tr>\n",
       "    <tr>\n",
       "      <th>4</th>\n",
       "      <td>8458</td>\n",
       "      <td>pets-animals</td>\n",
       "      <td>NYC Animal Rights</td>\n",
       "      <td>1809940</td>\n",
       "      <td>NY</td>\n",
       "      <td>pet-cats-and-kittens</td>\n",
       "    </tr>\n",
       "  </tbody>\n",
       "</table>\n",
       "</div>"
      ],
      "text/plain": [
       "   group_id     category.shortname                 group_name  \\\n",
       "0      6388       health-wellbeing     Alternative Health NYC   \n",
       "1      6510  community-environment  Alternative Energy Meetup   \n",
       "2      8458           pets-animals          NYC Animal Rights   \n",
       "3      8458           pets-animals          NYC Animal Rights   \n",
       "4      8458           pets-animals          NYC Animal Rights   \n",
       "\n",
       "   organizer.member_id state                topic_key  \n",
       "0              1513133    NY                 wellness  \n",
       "1              3955940    NY  environmental-education  \n",
       "2              1809940    NY            socialnetwork  \n",
       "3              1809940    NY                   social  \n",
       "4              1809940    NY     pet-cats-and-kittens  "
      ]
     },
     "execution_count": 14,
     "metadata": {},
     "output_type": "execute_result"
    }
   ],
   "source": [
    "df_groups.head()"
   ]
  },
  {
   "cell_type": "code",
   "execution_count": 15,
   "metadata": {
    "collapsed": true,
    "scrolled": true
   },
   "outputs": [],
   "source": [
    "#group_id must also be of category type or else rows will be missing after pivoting table\n",
    "df_groups['group_id'] = df_groups['group_id'].astype('category')\n",
    "\n",
    "#creating a binary representation utility matrix\n",
    "temp = df_groups.drop(['group_name','organizer.member_id', 'state'], axis = 1)\n",
    "temp['dummy'] = 1\n",
    "temp = pd.pivot_table(temp, index= 'group_id', columns = ['topic_key'], values = 'dummy', fill_value = 0)"
   ]
  },
  {
   "cell_type": "code",
   "execution_count": 16,
   "metadata": {
    "collapsed": true
   },
   "outputs": [],
   "source": [
    "#to setup dataframe x that will allow me to map back index to the group title\n",
    "x = df_groups.drop_duplicates(subset = 'group_id')\n",
    "x = x.set_index('group_id')\n",
    "\n",
    "#joining the category shortname with the pivot table and using get dummies for one hot encoding to have only one level\n",
    "#of columns\n",
    "temp = pd.get_dummies(temp.join(x['category.shortname']), prefix = '', prefix_sep = '')"
   ]
  },
  {
   "cell_type": "code",
   "execution_count": 48,
   "metadata": {},
   "outputs": [
    {
     "data": {
      "text/html": [
       "<div>\n",
       "<style>\n",
       "    .dataframe thead tr:only-child th {\n",
       "        text-align: right;\n",
       "    }\n",
       "\n",
       "    .dataframe thead th {\n",
       "        text-align: left;\n",
       "    }\n",
       "\n",
       "    .dataframe tbody tr th {\n",
       "        vertical-align: top;\n",
       "    }\n",
       "</style>\n",
       "<table border=\"1\" class=\"dataframe\">\n",
       "  <thead>\n",
       "    <tr style=\"text-align: right;\">\n",
       "      <th></th>\n",
       "      <th>20s-30s-social</th>\n",
       "      <th>20s-social</th>\n",
       "      <th>3-d-paper-crafts</th>\n",
       "      <th>80s-dancing</th>\n",
       "      <th>90s-music</th>\n",
       "      <th>Euro-games</th>\n",
       "      <th>a-spiritual-path-to-higher-creativity</th>\n",
       "      <th>acting-and-writing</th>\n",
       "      <th>active-parents</th>\n",
       "      <th>acustical-music-music-jam-sessions-vinyl-records</th>\n",
       "      <th>adaptive-technology</th>\n",
       "      <th>adoptive-parents</th>\n",
       "      <th>adult-education</th>\n",
       "      <th>adult-paper-craft-classes</th>\n",
       "      <th>adultent</th>\n",
       "      <th>...</th>\n",
       "      <th>music</th>\n",
       "      <th>new-age-spirituality</th>\n",
       "      <th>outdoors-adventure</th>\n",
       "      <th>paranormal</th>\n",
       "      <th>parents-family</th>\n",
       "      <th>pets-animals</th>\n",
       "      <th>photography</th>\n",
       "      <th>religion-beliefs</th>\n",
       "      <th>sci-fi-fantasy</th>\n",
       "      <th>singles</th>\n",
       "      <th>socializing</th>\n",
       "      <th>sports-recreation</th>\n",
       "      <th>support</th>\n",
       "      <th>tech</th>\n",
       "      <th>writing</th>\n",
       "    </tr>\n",
       "    <tr>\n",
       "      <th>group_id</th>\n",
       "      <th></th>\n",
       "      <th></th>\n",
       "      <th></th>\n",
       "      <th></th>\n",
       "      <th></th>\n",
       "      <th></th>\n",
       "      <th></th>\n",
       "      <th></th>\n",
       "      <th></th>\n",
       "      <th></th>\n",
       "      <th></th>\n",
       "      <th></th>\n",
       "      <th></th>\n",
       "      <th></th>\n",
       "      <th></th>\n",
       "      <th></th>\n",
       "      <th></th>\n",
       "      <th></th>\n",
       "      <th></th>\n",
       "      <th></th>\n",
       "      <th></th>\n",
       "      <th></th>\n",
       "      <th></th>\n",
       "      <th></th>\n",
       "      <th></th>\n",
       "      <th></th>\n",
       "      <th></th>\n",
       "      <th></th>\n",
       "      <th></th>\n",
       "      <th></th>\n",
       "      <th></th>\n",
       "    </tr>\n",
       "  </thead>\n",
       "  <tbody>\n",
       "    <tr>\n",
       "      <th>6388</th>\n",
       "      <td>0</td>\n",
       "      <td>0</td>\n",
       "      <td>0</td>\n",
       "      <td>0</td>\n",
       "      <td>0</td>\n",
       "      <td>0</td>\n",
       "      <td>0</td>\n",
       "      <td>0</td>\n",
       "      <td>0</td>\n",
       "      <td>0</td>\n",
       "      <td>0</td>\n",
       "      <td>0</td>\n",
       "      <td>0</td>\n",
       "      <td>0</td>\n",
       "      <td>0</td>\n",
       "      <td>...</td>\n",
       "      <td>0</td>\n",
       "      <td>0</td>\n",
       "      <td>0</td>\n",
       "      <td>0</td>\n",
       "      <td>0</td>\n",
       "      <td>0</td>\n",
       "      <td>0</td>\n",
       "      <td>0</td>\n",
       "      <td>0</td>\n",
       "      <td>0</td>\n",
       "      <td>0</td>\n",
       "      <td>0</td>\n",
       "      <td>0</td>\n",
       "      <td>0</td>\n",
       "      <td>0</td>\n",
       "    </tr>\n",
       "    <tr>\n",
       "      <th>6510</th>\n",
       "      <td>0</td>\n",
       "      <td>0</td>\n",
       "      <td>0</td>\n",
       "      <td>0</td>\n",
       "      <td>0</td>\n",
       "      <td>0</td>\n",
       "      <td>0</td>\n",
       "      <td>0</td>\n",
       "      <td>0</td>\n",
       "      <td>0</td>\n",
       "      <td>0</td>\n",
       "      <td>0</td>\n",
       "      <td>0</td>\n",
       "      <td>0</td>\n",
       "      <td>0</td>\n",
       "      <td>...</td>\n",
       "      <td>0</td>\n",
       "      <td>0</td>\n",
       "      <td>0</td>\n",
       "      <td>0</td>\n",
       "      <td>0</td>\n",
       "      <td>0</td>\n",
       "      <td>0</td>\n",
       "      <td>0</td>\n",
       "      <td>0</td>\n",
       "      <td>0</td>\n",
       "      <td>0</td>\n",
       "      <td>0</td>\n",
       "      <td>0</td>\n",
       "      <td>0</td>\n",
       "      <td>0</td>\n",
       "    </tr>\n",
       "    <tr>\n",
       "      <th>8458</th>\n",
       "      <td>0</td>\n",
       "      <td>0</td>\n",
       "      <td>0</td>\n",
       "      <td>0</td>\n",
       "      <td>0</td>\n",
       "      <td>0</td>\n",
       "      <td>0</td>\n",
       "      <td>0</td>\n",
       "      <td>0</td>\n",
       "      <td>0</td>\n",
       "      <td>0</td>\n",
       "      <td>0</td>\n",
       "      <td>0</td>\n",
       "      <td>0</td>\n",
       "      <td>0</td>\n",
       "      <td>...</td>\n",
       "      <td>0</td>\n",
       "      <td>0</td>\n",
       "      <td>0</td>\n",
       "      <td>0</td>\n",
       "      <td>0</td>\n",
       "      <td>1</td>\n",
       "      <td>0</td>\n",
       "      <td>0</td>\n",
       "      <td>0</td>\n",
       "      <td>0</td>\n",
       "      <td>0</td>\n",
       "      <td>0</td>\n",
       "      <td>0</td>\n",
       "      <td>0</td>\n",
       "      <td>0</td>\n",
       "    </tr>\n",
       "    <tr>\n",
       "      <th>8940</th>\n",
       "      <td>0</td>\n",
       "      <td>0</td>\n",
       "      <td>0</td>\n",
       "      <td>0</td>\n",
       "      <td>0</td>\n",
       "      <td>0</td>\n",
       "      <td>0</td>\n",
       "      <td>0</td>\n",
       "      <td>0</td>\n",
       "      <td>0</td>\n",
       "      <td>0</td>\n",
       "      <td>0</td>\n",
       "      <td>0</td>\n",
       "      <td>0</td>\n",
       "      <td>0</td>\n",
       "      <td>...</td>\n",
       "      <td>0</td>\n",
       "      <td>0</td>\n",
       "      <td>0</td>\n",
       "      <td>0</td>\n",
       "      <td>0</td>\n",
       "      <td>0</td>\n",
       "      <td>0</td>\n",
       "      <td>0</td>\n",
       "      <td>1</td>\n",
       "      <td>0</td>\n",
       "      <td>0</td>\n",
       "      <td>0</td>\n",
       "      <td>0</td>\n",
       "      <td>0</td>\n",
       "      <td>0</td>\n",
       "    </tr>\n",
       "    <tr>\n",
       "      <th>10104</th>\n",
       "      <td>0</td>\n",
       "      <td>0</td>\n",
       "      <td>0</td>\n",
       "      <td>0</td>\n",
       "      <td>0</td>\n",
       "      <td>0</td>\n",
       "      <td>0</td>\n",
       "      <td>0</td>\n",
       "      <td>0</td>\n",
       "      <td>0</td>\n",
       "      <td>0</td>\n",
       "      <td>0</td>\n",
       "      <td>0</td>\n",
       "      <td>0</td>\n",
       "      <td>0</td>\n",
       "      <td>...</td>\n",
       "      <td>0</td>\n",
       "      <td>0</td>\n",
       "      <td>0</td>\n",
       "      <td>0</td>\n",
       "      <td>0</td>\n",
       "      <td>1</td>\n",
       "      <td>0</td>\n",
       "      <td>0</td>\n",
       "      <td>0</td>\n",
       "      <td>0</td>\n",
       "      <td>0</td>\n",
       "      <td>0</td>\n",
       "      <td>0</td>\n",
       "      <td>0</td>\n",
       "      <td>0</td>\n",
       "    </tr>\n",
       "  </tbody>\n",
       "</table>\n",
       "<p>5 rows × 994 columns</p>\n",
       "</div>"
      ],
      "text/plain": [
       "          20s-30s-social  20s-social  3-d-paper-crafts  80s-dancing  \\\n",
       "group_id                                                              \n",
       "6388                   0           0                 0            0   \n",
       "6510                   0           0                 0            0   \n",
       "8458                   0           0                 0            0   \n",
       "8940                   0           0                 0            0   \n",
       "10104                  0           0                 0            0   \n",
       "\n",
       "          90s-music  Euro-games  a-spiritual-path-to-higher-creativity  \\\n",
       "group_id                                                                 \n",
       "6388              0           0                                      0   \n",
       "6510              0           0                                      0   \n",
       "8458              0           0                                      0   \n",
       "8940              0           0                                      0   \n",
       "10104             0           0                                      0   \n",
       "\n",
       "          acting-and-writing  active-parents  \\\n",
       "group_id                                       \n",
       "6388                       0               0   \n",
       "6510                       0               0   \n",
       "8458                       0               0   \n",
       "8940                       0               0   \n",
       "10104                      0               0   \n",
       "\n",
       "          acustical-music-music-jam-sessions-vinyl-records  \\\n",
       "group_id                                                     \n",
       "6388                                                     0   \n",
       "6510                                                     0   \n",
       "8458                                                     0   \n",
       "8940                                                     0   \n",
       "10104                                                    0   \n",
       "\n",
       "          adaptive-technology  adoptive-parents  adult-education  \\\n",
       "group_id                                                           \n",
       "6388                        0                 0                0   \n",
       "6510                        0                 0                0   \n",
       "8458                        0                 0                0   \n",
       "8940                        0                 0                0   \n",
       "10104                       0                 0                0   \n",
       "\n",
       "          adult-paper-craft-classes  adultent   ...     music  \\\n",
       "group_id                                        ...             \n",
       "6388                              0         0   ...         0   \n",
       "6510                              0         0   ...         0   \n",
       "8458                              0         0   ...         0   \n",
       "8940                              0         0   ...         0   \n",
       "10104                             0         0   ...         0   \n",
       "\n",
       "          new-age-spirituality  outdoors-adventure  paranormal  \\\n",
       "group_id                                                         \n",
       "6388                         0                   0           0   \n",
       "6510                         0                   0           0   \n",
       "8458                         0                   0           0   \n",
       "8940                         0                   0           0   \n",
       "10104                        0                   0           0   \n",
       "\n",
       "          parents-family  pets-animals  photography  religion-beliefs  \\\n",
       "group_id                                                                \n",
       "6388                   0             0            0                 0   \n",
       "6510                   0             0            0                 0   \n",
       "8458                   0             1            0                 0   \n",
       "8940                   0             0            0                 0   \n",
       "10104                  0             1            0                 0   \n",
       "\n",
       "          sci-fi-fantasy  singles  socializing  sports-recreation  support  \\\n",
       "group_id                                                                     \n",
       "6388                   0        0            0                  0        0   \n",
       "6510                   0        0            0                  0        0   \n",
       "8458                   0        0            0                  0        0   \n",
       "8940                   1        0            0                  0        0   \n",
       "10104                  0        0            0                  0        0   \n",
       "\n",
       "          tech  writing  \n",
       "group_id                 \n",
       "6388         0        0  \n",
       "6510         0        0  \n",
       "8458         0        0  \n",
       "8940         0        0  \n",
       "10104        0        0  \n",
       "\n",
       "[5 rows x 994 columns]"
      ]
     },
     "execution_count": 48,
     "metadata": {},
     "output_type": "execute_result"
    }
   ],
   "source": [
    "temp.head()"
   ]
  },
  {
   "cell_type": "code",
   "execution_count": 17,
   "metadata": {
    "collapsed": true
   },
   "outputs": [],
   "source": [
    "#compute the similarity between groups\n",
    "from sklearn.metrics.pairwise import cosine_similarity\n",
    "sim_scores = cosine_similarity(temp)"
   ]
  },
  {
   "cell_type": "code",
   "execution_count": 18,
   "metadata": {
    "collapsed": true
   },
   "outputs": [],
   "source": [
    "#reset index to map back group_id recommendation to group names\n",
    "x = x.reset_index(drop = True)\n",
    "\n",
    "#created to retrieve idx from input group name of content base function\n",
    "y = pd.Series(x.index, index = x['group_name'])"
   ]
  },
  {
   "cell_type": "code",
   "execution_count": 49,
   "metadata": {},
   "outputs": [
    {
     "data": {
      "text/plain": [
       "group_name\n",
       "Alternative Health NYC           0\n",
       "Alternative Energy Meetup        1\n",
       "NYC Animal Rights                2\n",
       "The New York City Anime Group    3\n",
       "NYC Pit Bull Group               4\n",
       "dtype: int64"
      ]
     },
     "execution_count": 49,
     "metadata": {},
     "output_type": "execute_result"
    }
   ],
   "source": [
    "y.head()"
   ]
  },
  {
   "cell_type": "code",
   "execution_count": 36,
   "metadata": {
    "collapsed": true
   },
   "outputs": [],
   "source": [
    "def content_base(group_name, scores = sim_scores):\n",
    "    \"\"\"This function takes in a group name as a string and returns a list of groups that are most similar to the input.\"\"\"\n",
    "    \n",
    "    #grabbing the index of the group\n",
    "    idx = y[group_name]\n",
    "    \n",
    "    #find the row of the score matrix using the index and using enumerate to keep track the index of the group similiar\n",
    "    #to it\n",
    "    row_score = list(enumerate(scores[idx]))\n",
    "    \n",
    "    #sort the row score by similarity score from highest to lowest\n",
    "    sorted_score = sorted(row_score, key = lambda p: p[1], reverse = True)\n",
    "    \n",
    "    #get the indices of the sorted score\n",
    "    #West NY is located in the state of NJ\n",
    "    if x.loc[idx, 'state'] in ['NY', 'NJ']:\n",
    "        indices = [i[0] for i in sorted_score if x.loc[i[0],'state'] in ['NY', 'NJ']]\n",
    "        score = [i[1] for i in sorted_score if x.loc[i[0],'state'] in ['NY', 'NJ']]\n",
    "    \n",
    "    #condition on the fact that only if similar groups are from the same state\n",
    "    else:    \n",
    "        indices = [i[0] for i in sorted_score if x.loc[idx,'state'] == x.loc[i[0], 'state']]\n",
    "        score = [i[1] for i in sorted_score if x.loc[idx,'state'] == x.loc[i[0], 'state']]\n",
    "    \n",
    "    #return the top five most similar groups\n",
    "    return list(zip(list(x.iloc[indices[1:6],1]), score))"
   ]
  },
  {
   "cell_type": "code",
   "execution_count": 37,
   "metadata": {},
   "outputs": [
    {
     "data": {
      "text/plain": [
       "[('Harlem Meer Mutts Club', 0.99999999999999978),\n",
       " ('Brooklyn disk dogs', 0.99999999999999978),\n",
       " ('NY & NJ(Waterfront) Miniature Pinscher Meetup', 0.99999999999999978),\n",
       " ('Me & My Best Friend Hiking Adventures', 0.99999999999999978),\n",
       " ('THE NEW YORK CITY MALTESE MEETUP GROUP', 0.99999999999999978)]"
      ]
     },
     "execution_count": 37,
     "metadata": {},
     "output_type": "execute_result"
    }
   ],
   "source": [
    "content_base('NYC Pit Bull Group')"
   ]
  },
  {
   "cell_type": "code",
   "execution_count": 38,
   "metadata": {},
   "outputs": [
    {
     "data": {
      "text/plain": [
       "[('The New York Chakra Healing Meetup', 0.99999999999999978),\n",
       " ('Living Energy~ Global & Local Wellness Community', 0.99999999999999978),\n",
       " ('The Herbalists Meetup Group', 0.99999999999999978),\n",
       " ('Say YES to Your Life, Manhattan!', 0.99999999999999978),\n",
       " ('Cosmos Tree', 0.99999999999999978)]"
      ]
     },
     "execution_count": 38,
     "metadata": {},
     "output_type": "execute_result"
    }
   ],
   "source": [
    "content_base('Alternative Health NYC')"
   ]
  },
  {
   "cell_type": "code",
   "execution_count": 39,
   "metadata": {},
   "outputs": [
    {
     "data": {
      "text/plain": [
       "[('The NYC Pug Meetup Group', 0.99999999999999989),\n",
       " ('New York City Basenji Meetup', 0.67082039324993692),\n",
       " ('NYC Shiba Inus and their Human Companions(NE Shibaholics).',\n",
       "  0.63245553203367577),\n",
       " ('The New York City Cat Meetup Group', 0.63245553203367577),\n",
       " ('Westie Rescue NYC (WRNYC)', 0.63245553203367577)]"
      ]
     },
     "execution_count": 39,
     "metadata": {},
     "output_type": "execute_result"
    }
   ],
   "source": [
    "content_base('NYC Animal Rights')"
   ]
  },
  {
   "cell_type": "code",
   "execution_count": 40,
   "metadata": {},
   "outputs": [
    {
     "data": {
      "text/plain": [
       "[('New York Food Explorers', 0.99999999999999978),\n",
       " ('Third Culture Kids (TCKs) of NYC', 0.77151674981045959),\n",
       " ('NYC Food & Travel Enthusiasts', 0.67612340378281321),\n",
       " ('New York Wine Events Lovers', 0.67612340378281321),\n",
       " ('Eating in NYC', 0.66815310478106082)]"
      ]
     },
     "execution_count": 40,
     "metadata": {},
     "output_type": "execute_result"
    }
   ],
   "source": [
    "content_base('Pears and Bees')"
   ]
  },
  {
   "cell_type": "code",
   "execution_count": 41,
   "metadata": {},
   "outputs": [
    {
     "data": {
      "text/plain": [
       "[('Greek Language & Culture Meetup (NYC)', 1.0),\n",
       " (\"Massimo's Philosophy Caf\", 1.0),\n",
       " ('NYC Debate', 1.0),\n",
       " ('Economist readers', 1.0),\n",
       " ('The NYC Physics and Astronomy Meetup', 1.0)]"
      ]
     },
     "execution_count": 41,
     "metadata": {},
     "output_type": "execute_result"
    }
   ],
   "source": [
    "content_base('GRE Practice')"
   ]
  },
  {
   "cell_type": "code",
   "execution_count": 42,
   "metadata": {},
   "outputs": [
    {
     "data": {
      "text/plain": [
       "[('The New York City Hiking Group', 1.0),\n",
       " (\"NYC Sea Gypsies - New York City's Dive Club\", 0.70710678118654746),\n",
       " ('Appalachian Mountain Club - Young Members', 0.70710678118654746),\n",
       " ('Veggie Hikers, Climbers and Skiers', 0.70710678118654746),\n",
       " ('NYC Fun Cyclers', 0.70710678118654746)]"
      ]
     },
     "execution_count": 42,
     "metadata": {},
     "output_type": "execute_result"
    }
   ],
   "source": [
    "content_base('Just Dance NYC')"
   ]
  },
  {
   "cell_type": "code",
   "execution_count": 43,
   "metadata": {
    "scrolled": true
   },
   "outputs": [
    {
     "data": {
      "text/plain": [
       "[('Chicago Culture and Arts Club', 1.0),\n",
       " (\"BYOT (Bring Your Own Theater) Chicago's best 24hr Theater\",\n",
       "  0.70710678118654746),\n",
       " (\"Chicago Women's Creative Collective\", 0.6804138174397717),\n",
       " ('1001 Things to See in Chicago Before You Die', 0.60302268915552726),\n",
       " (\"Chicago The Artist's Way Meetup Group\", 0.59628479399994383)]"
      ]
     },
     "execution_count": 43,
     "metadata": {},
     "output_type": "execute_result"
    }
   ],
   "source": [
    "content_base('Chicago Meetup')"
   ]
  },
  {
   "cell_type": "code",
   "execution_count": 44,
   "metadata": {},
   "outputs": [
    {
     "data": {
      "text/plain": [
       "[('Professional English Workshops for Internationals', 1.0),\n",
       " ('Free English Classes in San Francisco', 0.86602540378443882),\n",
       " ('SF ESL Group', 0.86602540378443882),\n",
       " ('Startup Professionals Meetup for Non-Native English Speakers', 0.75),\n",
       " ('San Francisco Pronunciation for ESL Professionals Meetup', 0.75)]"
      ]
     },
     "execution_count": 44,
     "metadata": {},
     "output_type": "execute_result"
    }
   ],
   "source": [
    "content_base('Vocabulary workhop')"
   ]
  },
  {
   "cell_type": "code",
   "execution_count": 47,
   "metadata": {},
   "outputs": [
    {
     "data": {
      "text/plain": [
       "[('Martial arts sparring strategy and drilling', 1.0000000000000002),\n",
       " ('Street Smart Safety & Self Defense For Women', 0.86602540378443882),\n",
       " ('Warrior Brothers - San Francisco', 0.81649658092772603),\n",
       " ('UFC Watch Club', 0.81649658092772603),\n",
       " ('San Francisco Self-Defense Meetup', 0.81649658092772603)]"
      ]
     },
     "execution_count": 47,
     "metadata": {},
     "output_type": "execute_result"
    }
   ],
   "source": [
    "content_base('San Francisco Brazilian Jiu-Jitsu Meetup')"
   ]
  },
  {
   "cell_type": "markdown",
   "metadata": {},
   "source": []
  },
  {
   "cell_type": "code",
   "execution_count": null,
   "metadata": {
    "collapsed": true
   },
   "outputs": [],
   "source": []
  }
 ],
 "metadata": {
  "anaconda-cloud": {},
  "kernelspec": {
   "display_name": "Python 3",
   "language": "python",
   "name": "python3"
  },
  "language_info": {
   "codemirror_mode": {
    "name": "ipython",
    "version": 3
   },
   "file_extension": ".py",
   "mimetype": "text/x-python",
   "name": "python",
   "nbconvert_exporter": "python",
   "pygments_lexer": "ipython3",
   "version": "3.6.1"
  }
 },
 "nbformat": 4,
 "nbformat_minor": 1
}
